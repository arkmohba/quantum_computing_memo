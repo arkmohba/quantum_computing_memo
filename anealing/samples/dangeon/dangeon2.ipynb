{
  "cells": [
    {
      "cell_type": "code",
      "source": [
        "!pip install pyqubo dimod dwave-ocean-sdk"
      ],
      "metadata": {
        "id": "OWTUxwd1Yr02"
      },
      "execution_count": null,
      "outputs": []
    },
    {
      "cell_type": "code",
      "execution_count": 2,
      "metadata": {
        "id": "5mJU-E2pYrDk"
      },
      "outputs": [],
      "source": [
        "from pyqubo import Array\n",
        "\n",
        "n_pattern  = 7  # 0:[上、下]、1;[左、右]、2:[上、右]、3:[右、下]、4:[下、左]、5:[左、上]、6:なし\n",
        "lattice_size_x = 10\n",
        "lattice_size_y = 10\n",
        "v = Array.create('v', shape=(lattice_size_x, lattice_size_y, n_pattern), vartype='BINARY')\n"
      ]
    },
    {
      "cell_type": "code",
      "execution_count": 3,
      "metadata": {
        "id": "oWHHGJ0SYrDm"
      },
      "outputs": [],
      "source": [
        "import numpy as np\n",
        "def convert_to_np(result, var, var_label):\n",
        "    result_np = np.zeros(var.shape, dtype=int)\n",
        "    for x in range(var.shape[0]):\n",
        "        for y in range(var.shape[1]):\n",
        "            for p in range(var.shape[2]):\n",
        "                label = f'{var_label}[{x}][{y}][{p}]'\n",
        "                if label in result:\n",
        "                    result_np[x][y][p] = result[label]\n",
        "                else:\n",
        "                    result_np[x][y][p] = 0\n",
        "    success = result_np.sum() == var.shape[0] * var.shape[1]\n",
        "    result_np = result_np.argmax(axis=-1)\n",
        "    return success, result_np"
      ]
    },
    {
      "cell_type": "code",
      "execution_count": 4,
      "metadata": {
        "id": "OwooQu5xYrDn"
      },
      "outputs": [],
      "source": [
        "import matplotlib.pyplot as plt\n",
        "\n",
        "def plot(pattern_array, x_size, y_size):\n",
        "    # 0:[上、下]、1;[左、右]、2:[上、右]、3:[右、下]、4:[下、左]、5:[左、上]\n",
        "    show_positions = [\n",
        "        {\n",
        "            'from': [0.5, 1],\n",
        "            'to': [0.5, 0]\n",
        "        },\n",
        "        {\n",
        "            'from': [0, 0.5],\n",
        "            'to': [1, 0.5]\n",
        "        },\n",
        "        {\n",
        "            'from': [0.5, 1],\n",
        "            'to': [1, 0.5]\n",
        "        },\n",
        "        {\n",
        "            'from': [1, 0.5],\n",
        "            'to': [0.5, 0]\n",
        "        },\n",
        "        {\n",
        "            'from': [0.5, 0],\n",
        "            'to': [0, 0.5]\n",
        "        },\n",
        "        {\n",
        "            'from': [0, 0.5],\n",
        "            'to': [0.5, 1]\n",
        "        },\n",
        "        None\n",
        "    ]\n",
        "    plt.xlim([0, x_size])\n",
        "    plt.ylim([0, y_size])\n",
        "    plt.xticks(list(range(x_size+1)))\n",
        "    plt.yticks(list(range(y_size+1)))\n",
        "    for x in range(x_size):\n",
        "        for y in range(y_size):\n",
        "            p = pattern_array[x][y]\n",
        "            positions = show_positions[p]\n",
        "            if positions is None:\n",
        "                continue\n",
        "            xs = [x + positions['from'][0], x + 0.5, x + positions['to'][0]]\n",
        "            ys = [y + positions['from'][1], y + 0.5, y + positions['to'][1]]\n",
        "            plt.plot(xs, ys)\n",
        "    # plt.grid()"
      ]
    },
    {
      "cell_type": "code",
      "execution_count": 5,
      "metadata": {
        "id": "yMx8sMaVYrDo"
      },
      "outputs": [],
      "source": [
        "from pyqubo import Constraint\n",
        "\n",
        "# 各地点で選べるパターンは一つだけ\n",
        "H_onehot = 0\n",
        "for x in range(lattice_size_x):\n",
        "    for y in range(lattice_size_y):\n",
        "        tmp = 0\n",
        "        for p in range(n_pattern):\n",
        "            tmp += v[x][y][p]\n",
        "        H_onehot += Constraint((tmp - 1)**2, str(x)+\":\"+str(y))"
      ]
    },
    {
      "cell_type": "code",
      "execution_count": 6,
      "metadata": {
        "id": "o23z9CauYrDo"
      },
      "outputs": [],
      "source": [
        "# スタート、ゴール地点を作成\n",
        "endpoints = [\n",
        "    [0, 0],\n",
        "    [lattice_size_x - 1, lattice_size_y-1]\n",
        "]\n",
        "\n",
        "H_endpoint = 0\n",
        "for endpoint in endpoints:\n",
        "    x = endpoint[0]\n",
        "    y = endpoint[1]\n",
        "    H_endpoint -= v[x][y][6]  # must be 6(no edge)"
      ]
    },
    {
      "cell_type": "code",
      "execution_count": 7,
      "metadata": {
        "id": "Et1_h2GlYrDp"
      },
      "outputs": [],
      "source": [
        "# スタート、ゴール地点周辺との非接続へのペナルティ\n",
        "n_endpoint_connect =1\n",
        "# 0:[上、下]、1;[左、右]、2:[上、右]、3:[右、下]、4:[下、左]、5:[左、上]\n",
        "endpoint_connect_patterns = [\n",
        "        {\n",
        "            \"pos\": [0, 1],\n",
        "            \"patterns\": [0, 3, 4]\n",
        "        },\n",
        "        {\n",
        "            \"pos\": [0, -1],\n",
        "            \"patterns\": [0, 2, 5]\n",
        "        },\n",
        "        {\n",
        "            \"pos\": [1, 0],\n",
        "            \"patterns\": [1, 4, 5]\n",
        "        },\n",
        "        {\n",
        "            \"pos\": [-1, 0],\n",
        "            \"patterns\": [1, 2, 3]\n",
        "        }\n",
        "]\n",
        "H_endpoint_unconnect = 0\n",
        "for endpoint in endpoints:\n",
        "    x = endpoint[0]\n",
        "    y = endpoint[1]\n",
        "    tmp = 0\n",
        "    for endpoint_connect_pattern in endpoint_connect_patterns:\n",
        "        target_x = x + endpoint_connect_pattern[\"pos\"][0]\n",
        "        target_y = y + endpoint_connect_pattern[\"pos\"][1]\n",
        "        if 0 <= target_x < lattice_size_x and 0 <= target_y < lattice_size_y:\n",
        "            for p in endpoint_connect_pattern[\"patterns\"]:\n",
        "                tmp += v[target_x][target_y][p]\n",
        "    H_endpoint_unconnect += (tmp - n_endpoint_connect) ** 2"
      ]
    },
    {
      "cell_type": "code",
      "execution_count": 8,
      "metadata": {
        "id": "i0QdF7qlYrDp"
      },
      "outputs": [],
      "source": [
        "def is_endpoints(x, y, endpoints):\n",
        "    for endpoint in endpoints:\n",
        "        if endpoint[0] == x and endpoint[1] == y:\n",
        "            return True\n",
        "    return False"
      ]
    },
    {
      "cell_type": "code",
      "execution_count": 9,
      "metadata": {
        "id": "SY8oK0NEYrDp"
      },
      "outputs": [],
      "source": [
        "# 0:[上、下]、1;[左、右]、2:[上、右]、3:[右、下]、4:[下、左]、5:[左、上]\n",
        "unconnected_penalty_patterns = [\n",
        "    [\n",
        "        {\n",
        "            \"pos\": [0, 1],\n",
        "            \"patterns\": [1, 2, 5, 6]\n",
        "        },\n",
        "        {\n",
        "            \"pos\": [0, -1],\n",
        "            \"patterns\": [1, 3, 4, 6]\n",
        "        }\n",
        "    ],\n",
        "    [\n",
        "        {\n",
        "            \"pos\": [-1, 0],\n",
        "            \"patterns\": [0, 4, 5, 6]\n",
        "        },\n",
        "        {\n",
        "            \"pos\": [1, 0],\n",
        "            \"patterns\": [0, 2, 3, 6]\n",
        "        }\n",
        "    ],\n",
        "    [\n",
        "        {\n",
        "            \"pos\": [0, 1],\n",
        "            \"patterns\": [1, 2, 5, 6]\n",
        "        },\n",
        "        {\n",
        "            \"pos\": [1, 0],\n",
        "            \"patterns\": [0, 2, 3, 6]\n",
        "        }\n",
        "    ],\n",
        "    [\n",
        "        {\n",
        "            \"pos\": [1, 0],\n",
        "            \"patterns\": [0, 2, 3, 6]\n",
        "        },\n",
        "        {\n",
        "            \"pos\": [0, -1],\n",
        "            \"patterns\": [1, 3, 4, 6]\n",
        "        }\n",
        "    ],\n",
        "    [\n",
        "        {\n",
        "            \"pos\": [0, -1],\n",
        "            \"patterns\": [1, 3, 4, 6]\n",
        "        },\n",
        "        {\n",
        "            \"pos\": [-1, 0],\n",
        "            \"patterns\": [0, 4, 5, 6]\n",
        "        }\n",
        "    ],\n",
        "    [\n",
        "        {\n",
        "            \"pos\": [-1, 0],\n",
        "            \"patterns\": [0, 4, 5, 6]\n",
        "        },\n",
        "        {\n",
        "            \"pos\": [0, 1],\n",
        "            \"patterns\": [1, 2, 5, 6]\n",
        "        }\n",
        "    ],\n",
        "    []\n",
        "]\n",
        "\n",
        "# 接続していなかったらペナルティ\n",
        "H_unconnected = 0\n",
        "for x in range(lattice_size_x):\n",
        "    for y in range(lattice_size_y):\n",
        "        if is_endpoints(x, y, endpoints):\n",
        "            continue\n",
        "        for p in range(n_pattern):\n",
        "            penalty_patterns = unconnected_penalty_patterns[p]\n",
        "            for penalty_pattern in penalty_patterns:\n",
        "                target_x = x + penalty_pattern[\"pos\"][0]\n",
        "                target_y = y + penalty_pattern[\"pos\"][1]\n",
        "                if is_endpoints(target_x, target_y, endpoints):\n",
        "                    H_unconnected -= v[x][y][p] * v[target_x][target_y][6]\n",
        "                if 0 <= target_x < lattice_size_x and 0 <= target_y < lattice_size_y:\n",
        "                    for target_pattern in penalty_pattern[\"patterns\"]:\n",
        "                        H_unconnected += v[x][y][p] * v[target_x][target_y][target_pattern]"
      ]
    },
    {
      "cell_type": "code",
      "execution_count": 10,
      "metadata": {
        "id": "vYUZEGpJYrDr"
      },
      "outputs": [],
      "source": [
        "# 外部接続に対してペナルティ\n",
        "# 0:[上、下]、1;[左、右]、2:[上、右]、3:[右、下]、4:[下、左]、5:[左、上]\n",
        "penaltiy_patterns_outgoing = {\n",
        "    \"left\": [1, 4, 5],\n",
        "    \"right\": [1, 2, 3],\n",
        "    \"top\": [0, 2, 5],\n",
        "    \"bottom\": [0, 3, 4]\n",
        "}\n",
        "H_outgoing = 0\n",
        "for y in range(lattice_size_y):\n",
        "    # 左端\n",
        "    for p in penaltiy_patterns_outgoing[\"left\"]:\n",
        "        H_outgoing += v[0][y][p]\n",
        "    # 右端\n",
        "    for p in penaltiy_patterns_outgoing[\"right\"]:\n",
        "        H_outgoing += v[lattice_size_x - 1][y][p]\n",
        "for x in range(lattice_size_x):\n",
        "    # 上端\n",
        "    for p in penaltiy_patterns_outgoing[\"bottom\"]:\n",
        "        H_outgoing += v[x][0][p]\n",
        "    # 下端\n",
        "    for p in penaltiy_patterns_outgoing[\"top\"]:\n",
        "        H_outgoing += v[x][lattice_size_y - 1][p]\n"
      ]
    },
    {
      "cell_type": "code",
      "execution_count": 11,
      "metadata": {
        "id": "fdoHZCPYYrDs"
      },
      "outputs": [],
      "source": [
        "# 線があるときはペナルティ\n",
        "H_line_penalty = 0\n",
        "for x in range(lattice_size_x):\n",
        "    for y in range(lattice_size_y):\n",
        "        for p in range(n_pattern - 1):\n",
        "            H_line_penalty += v[x][y][p]"
      ]
    },
    {
      "cell_type": "code",
      "execution_count": 12,
      "metadata": {
        "id": "mEebmJXBYrDs",
        "colab": {
          "base_uri": "https://localhost:8080/",
          "height": 453
        },
        "outputId": "6967538a-295a-4607-f2a1-4a2150a583e9"
      },
      "outputs": [
        {
          "output_type": "stream",
          "name": "stdout",
          "text": [
            "True\n"
          ]
        },
        {
          "output_type": "display_data",
          "data": {
            "text/plain": [
              "<Figure size 640x480 with 1 Axes>"
            ],
            "image/png": "[encoded data removed]"
          },
          "metadata": {}
        }
      ],
      "source": [
        "import dimod\n",
        "S = 1\n",
        "H = 0\n",
        "H += H_onehot\n",
        "H += H_unconnected\n",
        "H += H_outgoing\n",
        "H += H_endpoint\n",
        "H += H_endpoint_unconnect\n",
        "H += 0.1 * H_line_penalty # onehotよりは小さく\n",
        "bqm = H.compile().to_bqm()\n",
        "sampleset = dimod.SimulatedAnnealingSampler().sample(bqm, num_reads=10)\n",
        "result = sampleset.first.sample\n",
        "\n",
        "success, pattern_array = convert_to_np(result, v, \"v\")\n",
        "print(success)\n",
        "plot(pattern_array, lattice_size_x, lattice_size_y)"
      ]
    },
    {
      "cell_type": "code",
      "source": [
        "# # D-Waveを使いたい場合\n",
        "# from dwave.system import LeapHybridSampler\n",
        "# S = 1\n",
        "# H = 0\n",
        "# H += H_onehot\n",
        "# H += H_unconnected\n",
        "# H += H_outgoing\n",
        "# H += H_endpoint\n",
        "# H += H_endpoint_unconnect\n",
        "# # H += 0.809/(lattice_size_x+lattice_size_y) * H_line_penalty # onehotよりは小さく  # 20x20まではこれ\n",
        "# H += 0.52/(lattice_size_x+lattice_size_y) * H_line_penalty # onehotよりは小さく\n",
        "# bqm = H.compile().to_bqm()\n",
        "\n",
        "# # D-Wave leapにアカウント登録し、tokenを以下に記入すればD-Waveを利用できる。\n",
        "# sampler = LeapHybridSampler(token=\"XXXXXXXXXX\")\n",
        "# sampleset = sampler.sample(bqm)  # bqmはdimodで作成したものが使える。\n",
        "# result = sampleset.first.sample\n",
        "\n",
        "# success, pattern_array = convert_to_np(result, v, \"v\")\n",
        "# print(success)\n",
        "# plot(pattern_array, lattice_size_x, lattice_size_y)"
      ],
      "metadata": {
        "id": "xwClS1SXffej"
      },
      "execution_count": 13,
      "outputs": []
    }
  ],
  "metadata": {
    "kernelspec": {
      "display_name": ".env",
      "language": "python",
      "name": "python3"
    },
    "language_info": {
      "codemirror_mode": {
        "name": "ipython",
        "version": 3
      },
      "file_extension": ".py",
      "mimetype": "text/x-python",
      "name": "python",
      "nbconvert_exporter": "python",
      "pygments_lexer": "ipython3",
      "version": "3.10.12"
    },
    "orig_nbformat": 4,
    "colab": {
      "provenance": []
    }
  },
  "nbformat": 4,
  "nbformat_minor": 0
}